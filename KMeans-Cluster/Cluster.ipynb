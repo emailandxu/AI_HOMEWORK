{
 "cells": [
  {
   "cell_type": "code",
   "execution_count": 1,
   "metadata": {},
   "outputs": [],
   "source": [
    "import numpy as np"
   ]
  },
  {
   "cell_type": "code",
   "execution_count": 2,
   "metadata": {},
   "outputs": [],
   "source": [
    "K = 3"
   ]
  },
  {
   "cell_type": "code",
   "execution_count": 3,
   "metadata": {},
   "outputs": [],
   "source": [
    "calc_distence = lambda height,center_points : np.sqrt(np.power(height - center_points,2))"
   ]
  },
  {
   "cell_type": "code",
   "execution_count": 4,
   "metadata": {},
   "outputs": [],
   "source": [
    "def calc_K_center_points(distence,height):\n",
    "    distence = distence.T.reshape([-1,K])\n",
    "    point_belong_to = np.array([i.argmin() for i in distence])\n",
    "    n_group = [height[point_belong_to==class_] for class_ in range(K)]\n",
    "    return np.array([[group.mean()] for group in n_group]),n_group"
   ]
  },
  {
   "cell_type": "code",
   "execution_count": 5,
   "metadata": {},
   "outputs": [],
   "source": [
    "def init():\n",
    "    u1 = 150\n",
    "    u2 = 170\n",
    "    u3 = 188\n",
    "    \n",
    "    init_center_points = [[155],[140],[150]]\n",
    "    \n",
    "    girls_height = np.random.normal(u1,6,20)\n",
    "    boys_height = np.random.normal(u2,6,20)\n",
    "    extremly_high_height = np.random.normal(u3,6,20)\n",
    "    init_center_points = np.array(init_center_points)\n",
    "    person_height = np.array([girls_height,boys_height,extremly_high_height]).reshape([-1])\n",
    "    return person_height,init_center_points"
   ]
  },
  {
   "cell_type": "code",
   "execution_count": 6,
   "metadata": {},
   "outputs": [],
   "source": [
    "def main():\n",
    "    height, center_points = init()\n",
    "    iter_times = 10\n",
    "    for i in range(iter_times):\n",
    "        print(center_points.reshape([-1]))\n",
    "        distence = calc_distence(height,center_points)\n",
    "        center_points,n_group = calc_K_center_points(distence,height)\n",
    "    print(n_group)"
   ]
  },
  {
   "cell_type": "code",
   "execution_count": 7,
   "metadata": {},
   "outputs": [
    {
     "name": "stdout",
     "output_type": "stream",
     "text": [
      "[155 140 150]\n",
      "[175.82669872 142.85822842 149.06761351]\n",
      "[179.67969549 142.85822842 152.45055374]\n",
      "[180.97502306 144.01540067 154.38108868]\n",
      "[181.39566531 146.96434229 157.201427  ]\n",
      "[182.20457927 148.1805585  161.24868604]\n",
      "[182.97630192 148.1805585  162.42119273]\n",
      "[184.1711462  148.62225033 164.47784766]\n",
      "[184.60431189 149.08214621 165.41830621]\n",
      "[185.43500879 149.94722791 167.39253594]\n",
      "[array([178.92095836, 176.64707457, 185.85490191, 184.66208526,\n",
      "       185.94430559, 190.94176012, 185.1033625 , 181.55400861,\n",
      "       184.76817849, 194.2663739 , 190.62305084, 197.90463111,\n",
      "       191.55582431, 184.94222698, 191.80731767, 179.29943036,\n",
      "       187.65628361, 185.46324354, 178.07255734, 187.05186275,\n",
      "       190.34164235, 186.0187966 ]), array([144.12045829, 150.05095241, 148.04373324, 148.30055245,\n",
      "       148.08743995, 154.805936  , 148.82551258, 150.47679379,\n",
      "       157.03855884, 150.78490627, 148.8162791 , 157.80598937,\n",
      "       156.69720421, 149.82899072, 150.70709514, 141.59599855,\n",
      "       148.55936128, 155.98058438, 146.32974518]), array([159.19585712, 167.97967861, 170.23179061, 174.9431877 ,\n",
      "       172.9088382 , 168.92640518, 172.62546243, 171.97067219,\n",
      "       171.02568846, 163.07851323, 159.34898015, 175.57525148,\n",
      "       175.46508259, 159.32660271, 174.32871053, 166.67318672,\n",
      "       172.07197573, 165.73352652, 164.89058151])]\n"
     ]
    }
   ],
   "source": [
    "main()"
   ]
  }
 ],
 "metadata": {
  "kernelspec": {
   "display_name": "Python 3",
   "language": "python",
   "name": "python3"
  },
  "language_info": {
   "codemirror_mode": {
    "name": "ipython",
    "version": 3
   },
   "file_extension": ".py",
   "mimetype": "text/x-python",
   "name": "python",
   "nbconvert_exporter": "python",
   "pygments_lexer": "ipython3",
   "version": "3.5.0"
  },
  "varInspector": {
   "cols": {
    "lenName": 16,
    "lenType": 16,
    "lenVar": 40
   },
   "kernels_config": {
    "python": {
     "delete_cmd_postfix": "",
     "delete_cmd_prefix": "del ",
     "library": "var_list.py",
     "varRefreshCmd": "print(var_dic_list())"
    },
    "r": {
     "delete_cmd_postfix": ") ",
     "delete_cmd_prefix": "rm(",
     "library": "var_list.r",
     "varRefreshCmd": "cat(var_dic_list()) "
    }
   },
   "types_to_exclude": [
    "module",
    "function",
    "builtin_function_or_method",
    "instance",
    "_Feature"
   ],
   "window_display": false
  }
 },
 "nbformat": 4,
 "nbformat_minor": 2
}
