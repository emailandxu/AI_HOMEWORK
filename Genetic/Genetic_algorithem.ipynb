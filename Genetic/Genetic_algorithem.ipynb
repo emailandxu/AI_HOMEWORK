{
 "cells": [
  {
   "cell_type": "code",
   "execution_count": 1,
   "metadata": {},
   "outputs": [
    {
     "data": {
      "text/plain": [
       "[染色体编码:0 | 适应度值:5.0,\n",
       " 染色体编码:0 | 适应度值:5.0,\n",
       " 染色体编码:0 | 适应度值:5.0,\n",
       " 染色体编码:0 | 适应度值:5.0,\n",
       " 染色体编码:0 | 适应度值:5.0,\n",
       " 染色体编码:0 | 适应度值:5.0,\n",
       " 染色体编码:0 | 适应度值:5.0,\n",
       " 染色体编码:0 | 适应度值:5.0,\n",
       " 染色体编码:0 | 适应度值:5.0,\n",
       " 染色体编码:0 | 适应度值:5.0,\n",
       " 染色体编码:0 | 适应度值:5.0,\n",
       " 染色体编码:0 | 适应度值:5.0,\n",
       " 染色体编码:0 | 适应度值:5.0,\n",
       " 染色体编码:0 | 适应度值:5.0,\n",
       " 染色体编码:0 | 适应度值:5.0,\n",
       " 染色体编码:0 | 适应度值:5.0,\n",
       " 染色体编码:0 | 适应度值:5.0,\n",
       " 染色体编码:0 | 适应度值:5.0,\n",
       " 染色体编码:2 | 适应度值:-7.521655151032326,\n",
       " 染色体编码:4 | 适应度值:-26.154026581621274]"
      ]
     },
     "execution_count": 1,
     "metadata": {},
     "output_type": "execute_result"
    }
   ],
   "source": [
    "# -*- coding: utf-8 -*-\n",
    "\n",
    "import numpy as np\n",
    "import matplotlib.pyplot as plt\n",
    "\n",
    "# 适应度函数\n",
    "def fitness(x):\n",
    "    return  10 * np.sin(3 * x) + 5 * np.cos(4 * x) - x**2\n",
    "\n",
    "# 个体类\n",
    "class indivdual:\n",
    "    def __init__(self):\n",
    "        self.x = 0  # 染色体编码\n",
    "        self.fitness = 0  # 适应度值\n",
    "\n",
    "    def __eq__(self, other):\n",
    "        self.x = other.x\n",
    "        self.fitness = other.fitness\n",
    "    \n",
    "    def __repr__(self):\n",
    "        return self.__str__()\n",
    "    \n",
    "    def __str__(self):\n",
    "        return \"染色体编码:\"+str(self.x) + \" | \" +\"适应度值:\"+ str(self.fitness)\n",
    "\n",
    "\n",
    "# 初始化种群\n",
    "def initPopulation(pop, N):\n",
    "    for i in range(N):\n",
    "        ind = indivdual()\n",
    "        ind.x = int(np.random.uniform(0, 10))\n",
    "        ind.fitness = fitness(ind.x)\n",
    "        pop.append(ind)\n",
    "\n",
    "# 选择过程\n",
    "def selection(N):\n",
    "    # 种群中随机选择2个个体进行变异（这里没有用轮盘赌，直接用的随机选择）\n",
    "    return np.random.choice(N, 2)\n",
    "\n",
    "# 结合/交叉过程\n",
    "def crossover(parent1, parent2):\n",
    "    child1, child2 = indivdual(), indivdual()\n",
    "#     child1.x = 0.9 * parent1.x + 0.1 * parent2.x\n",
    "#     child2.x = 0.1 * parent1.x + 0.9 * parent2.x\n",
    "    child1.x = (int(parent1.x)&0b11110000)+(int(parent2.x) & 0b00001111)\n",
    "    child2.x = (int(parent2.x)&0b11110000)+(int(parent1.x) & 0b00001111)\n",
    "    child1.fitness = fitness(child1.x)\n",
    "    child2.fitness = fitness(child2.x)\n",
    "    return child1, child2\n",
    "\n",
    "\n",
    "# 变异过程\n",
    "def mutation(pop):\n",
    "    # 种群中随机选择一个进行变异\n",
    "    ind = np.random.choice(pop)\n",
    "    \n",
    "#     # 用随机赋值的方式进行变异\n",
    "#     ind.x = np.random.uniform(-10, 10)\n",
    "\n",
    "    # 用随机赋值的方式进行变异,随机反转一位\n",
    "    ind.x = int(ind.x)^np.random.choice([2**i for i in range(4)],1)[0]\n",
    "    ind.fitness = fitness(ind.x)\n",
    "\n",
    "# 最终执行\n",
    "def implement():\n",
    "    # 种群中个体数量\n",
    "    N = 20\n",
    "    # 种群\n",
    "    POP = []\n",
    "    # 迭代次数\n",
    "    iter_N = 500\n",
    "    # 初始化种群\n",
    "    initPopulation(POP, N)\n",
    "\n",
    "# 进化过程\n",
    "    for it in range(iter_N):\n",
    "        a, b = selection(N)\n",
    "        if np.random.random() < 0.75:  # 以0.75的概率进行交叉结合\n",
    "            child1, child2 = crossover(POP[a], POP[b])\n",
    "            new = sorted([POP[a], POP[b], child1, child2], key=lambda ind: ind.fitness, reverse=True)\n",
    "            POP[a], POP[b] = new[0], new[1]\n",
    "\n",
    "        if np.random.random() < 0.1:  # 以0.1的概率进行变异\n",
    "            mutation(POP)\n",
    "\n",
    "        POP.sort(key=lambda ind: ind.fitness, reverse=True)\n",
    "\n",
    "    return POP\n",
    "\n",
    "pop = implement()\n",
    "pop"
   ]
  },
  {
   "cell_type": "code",
   "execution_count": 2,
   "metadata": {},
   "outputs": [
    {
     "data": {
      "image/png": "[encoded data removed]",
      "text/plain": [
       "<Figure size 432x288 with 1 Axes>"
      ]
     },
     "metadata": {
      "needs_background": "light"
     },
     "output_type": "display_data"
    }
   ],
   "source": [
    "x = np.linspace(0, 10, 10)\n",
    "y = fitness(x)\n",
    "scatter_x = np.array([ind.x for ind in pop])\n",
    "scatter_y = np.array([ind.fitness for ind in pop])\n",
    "plt.plot(x, y)\n",
    "plt.scatter(scatter_x, scatter_y, c='r')\n",
    "plt.show()"
   ]
  }
 ],
 "metadata": {
  "kernelspec": {
   "display_name": "Python 3",
   "language": "python",
   "name": "python3"
  },
  "language_info": {
   "codemirror_mode": {
    "name": "ipython",
    "version": 3
   },
   "file_extension": ".py",
   "mimetype": "text/x-python",
   "name": "python",
   "nbconvert_exporter": "python",
   "pygments_lexer": "ipython3",
   "version": "3.5.0"
  },
  "varInspector": {
   "cols": {
    "lenName": 16,
    "lenType": 16,
    "lenVar": 40
   },
   "kernels_config": {
    "python": {
     "delete_cmd_postfix": "",
     "delete_cmd_prefix": "del ",
     "library": "var_list.py",
     "varRefreshCmd": "print(var_dic_list())"
    },
    "r": {
     "delete_cmd_postfix": ") ",
     "delete_cmd_prefix": "rm(",
     "library": "var_list.r",
     "varRefreshCmd": "cat(var_dic_list()) "
    }
   },
   "types_to_exclude": [
    "module",
    "function",
    "builtin_function_or_method",
    "instance",
    "_Feature"
   ],
   "window_display": false
  }
 },
 "nbformat": 4,
 "nbformat_minor": 2
}
